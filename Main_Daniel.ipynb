{
 "cells": [
  {
   "cell_type": "code",
   "execution_count": 265,
   "metadata": {},
   "outputs": [],
   "source": [
    "import pandas as pd\n",
    "import numpy as np\n",
    "import re"
   ]
  },
  {
   "cell_type": "markdown",
   "metadata": {},
   "source": [
    "## Wikidata"
   ]
  },
  {
   "cell_type": "code",
   "execution_count": 290,
   "metadata": {},
   "outputs": [
    {
     "data": {
      "text/plain": [
       "Unnamed: 0               87\n",
       "Unnamed: 0.1             87\n",
       "wikidataURL              87\n",
       "attractionName           87\n",
       "attractionDescription    76\n",
       "country                  87\n",
       "coordinates              87\n",
       "type                     87\n",
       "namedAfter                5\n",
       "locatedIn                77\n",
       "height                    2\n",
       "wikidataID               87\n",
       "long                     87\n",
       "lat                      87\n",
       "dtype: int64"
      ]
     },
     "execution_count": 290,
     "metadata": {},
     "output_type": "execute_result"
    }
   ],
   "source": [
    "# Import Wikidata and Create sample\n",
    "wiki=pd.read_csv(\"wikiAttractions.csv\")  \n",
    "wiki_sample = wiki.sample(n=100, random_state=2020)\n",
    "#wiki_sample = wiki.copy()\n",
    "\n",
    "# Remove whitespaces and convert to lower-case\n",
    "wiki_sample['attractionName'] = wiki_sample['attractionName'].str.replace(\" \",\"\")\n",
    "wiki_sample['attractionName'] = wiki_sample['attractionName'].str.lower()\n",
    "\n",
    "\n",
    "## New: Split coordinates\n",
    "# Convert column to string\n",
    "wiki_sample['coordinates'].astype(\"|S\")\n",
    "\n",
    "# Drop values with NaN in coordinates\n",
    "wiki_sample.dropna(subset = [\"coordinates\"], inplace=True)\n",
    "\n",
    "## Create new attributes long, lat\n",
    "\n",
    "# Subselect longitude and latitude\n",
    "wiki_sample['long'] = wiki_sample['coordinates'].str.slice(start=6, stop=10, step=1)\n",
    "\n",
    "for i, row in wiki_sample.iterrows():\n",
    "    wiki_sample.at[i,'lat'] = (re.search(r\"\\s\\S{5}\", row['coordinates'])).group(0)\n",
    "\n",
    "## Create lists for comparison\n",
    "wiki_list_long = wiki_sample['long'].tolist()\n",
    "wiki_list_lat = wiki_sample['lat'].tolist()\n",
    "\n",
    "wiki_sample.count()\n"
   ]
  },
  {
   "cell_type": "markdown",
   "metadata": {},
   "source": [
    "## OTM data "
   ]
  },
  {
   "cell_type": "code",
   "execution_count": 267,
   "metadata": {},
   "outputs": [],
   "source": [
    "# Import otm Data\n",
    "otm=pd.read_csv(\"opentripmap_new.csv\")  \n",
    "\n",
    "# Remove whitespaces and convert to lower-case\n",
    "otm['name'] = otm['name'].str.replace(\" \",\"\")\n",
    "otm['name'] = otm['name'].str.lower()\n",
    "otm\n",
    "\n",
    "## New: Split coordinates\n",
    "# Convert column to string\n",
    "otm['coordinates'].astype(\"|S\")\n",
    "\n",
    "# Subselect longitude and latitude\n",
    "otm['long'] = otm['coordinates'].str.slice(start=1, stop=5, step=1)\n",
    "\n",
    "for i, row in otm.iterrows():\n",
    "    otm.at[i,'lat'] = (re.search(r\"\\s\\S{5}\", row['coordinates'])).group(0)\n",
    "\n",
    "# Subselect required columns\n",
    "otm_sub_long = otm.loc[ : , ['long']]\n",
    "otm_sub_lat = otm.loc[ : , ['lat']]\n"
   ]
  },
  {
   "cell_type": "code",
   "execution_count": 268,
   "metadata": {},
   "outputs": [],
   "source": [
    "# Numer of rows in otm and wiki\n",
    "#otm_sub['name'].count()\n",
    "#wiki['attractionName'].count()"
   ]
  },
  {
   "cell_type": "markdown",
   "metadata": {},
   "source": [
    "## Comparison"
   ]
  },
  {
   "cell_type": "code",
   "execution_count": 269,
   "metadata": {},
   "outputs": [],
   "source": [
    "# Define function that checks for equal values\n",
    "def checkIfValuesExists(dfObj, listOfValues):\n",
    "    ''' Check if given elements exists in dictionary or not.\n",
    "        It returns a dictionary of elements as key and thier existence value as bool'''\n",
    "    resultDict = {}\n",
    "    # Iterate over the list of elements one by one\n",
    "    for elem in listOfValues:\n",
    "        # Check if the element exists in dataframe values\n",
    "        if elem in dfObj.values:\n",
    "            resultDict[elem] = True\n",
    "        else:\n",
    "            resultDict[elem] = False\n",
    "    # Returns a dictionary of values & thier existence flag        \n",
    "    return resultDict"
   ]
  },
  {
   "cell_type": "code",
   "execution_count": 288,
   "metadata": {},
   "outputs": [
    {
     "data": {
      "text/plain": [
       "{' 47.95': True,\n",
       " ' 45.56': True,\n",
       " ' 42.76': True,\n",
       " ' 56.95': True,\n",
       " ' 49.34': True,\n",
       " ' 42.33': True,\n",
       " ' 62.64': True,\n",
       " ' 61.46': True,\n",
       " ' 28.14': True,\n",
       " ' 51.22': True,\n",
       " ' 55.40': True,\n",
       " ' 41.08': True,\n",
       " ' 52.24': True,\n",
       " ' 54.60': True,\n",
       " ' 60.16': True,\n",
       " ' 39.48': True,\n",
       " ' 43.76': True,\n",
       " ' 51.89': True,\n",
       " ' 51.41': True,\n",
       " ' 61.10': False,\n",
       " ' 51.51': True,\n",
       " ' 52.29': True,\n",
       " ' 51.96': True,\n",
       " ' 53.61': True,\n",
       " ' 41.52': True,\n",
       " ' 49.10': True,\n",
       " ' 48.84': True,\n",
       " ' 48.87': True,\n",
       " ' 64.11': False,\n",
       " ' 49.95': True,\n",
       " ' 54.21': True,\n",
       " ' 46.72': True,\n",
       " ' 50.62': True,\n",
       " ' 50.39': True,\n",
       " ' 49.25': True,\n",
       " ' 51.33': True,\n",
       " ' 48.83': True,\n",
       " ' 47.50': True,\n",
       " ' 48.26': True,\n",
       " ' 42.04': True,\n",
       " ' 43.71': True,\n",
       " ' 43.27': True,\n",
       " ' 59.02': False,\n",
       " ' 41.00': True,\n",
       " ' 38.39': True,\n",
       " ' 58.37': True,\n",
       " ' 48.14': True,\n",
       " ' 37.50': True,\n",
       " ' 43.68': True,\n",
       " ' 45.75': True,\n",
       " ' 51.84': True,\n",
       " ' 45.88': True,\n",
       " ' 52.92': True,\n",
       " ' 52.19': True,\n",
       " ' 53.31': True,\n",
       " ' 41.21': True,\n",
       " ' 48.86': True,\n",
       " ' 40.84': True,\n",
       " ' 47.43': True,\n",
       " ' 51.40': True,\n",
       " ' 51.11': True,\n",
       " ' 39.47': True,\n",
       " ' 47.55': True,\n",
       " ' 56.94': True,\n",
       " ' 51.93': True,\n",
       " ' 51.50': True,\n",
       " ' 62.49': False,\n",
       " ' 53.78': True,\n",
       " ' 55.49': True,\n",
       " ' 54.98': True,\n",
       " ' 52.14': True,\n",
       " ' 50.17': True,\n",
       " ' 52.2)': False,\n",
       " ' 48.89': True,\n",
       " ' 38.01': True,\n",
       " ' 43.64': True,\n",
       " ' 49.18': True,\n",
       " ' 60.19': True,\n",
       " ' 48.80': True,\n",
       " ' 37.73': True,\n",
       " ' 43.88': True,\n",
       " ' 52.08': True}"
      ]
     },
     "execution_count": 288,
     "metadata": {},
     "output_type": "execute_result"
    }
   ],
   "source": [
    "result_long = checkIfValuesExists(otm_sub_long, wiki_list_long)\n",
    "result_lat = checkIfValuesExists(otm_sub_lat, wiki_list_lat)\n",
    "\n",
    "#result_long\n",
    "result_lat\n"
   ]
  },
  {
   "cell_type": "code",
   "execution_count": 271,
   "metadata": {},
   "outputs": [
    {
     "data": {
      "text/plain": [
       "77"
      ]
     },
     "execution_count": 271,
     "metadata": {},
     "output_type": "execute_result"
    }
   ],
   "source": [
    "# Count number of TRUE-Values Long\n",
    "#sum(value == True for value in result_long.values())\n"
   ]
  },
  {
   "cell_type": "code",
   "execution_count": 289,
   "metadata": {},
   "outputs": [
    {
     "data": {
      "text/plain": [
       "77"
      ]
     },
     "execution_count": 289,
     "metadata": {},
     "output_type": "execute_result"
    }
   ],
   "source": [
    "# Count number of TRUE-Values Lat\n",
    "sum(value == True for value in result_lat.values())\n"
   ]
  },
  {
   "cell_type": "code",
   "execution_count": null,
   "metadata": {},
   "outputs": [],
   "source": [
    "## Old\n",
    "\n",
    "# Only use rows 1-50 and subcols\n",
    "#wiki_sub = wiki_sample.iloc[1:50, 3]\n",
    "\n",
    "# Create list for comparison\n",
    "#wiki_list = wiki_sample['attractionName'].tolist()\n",
    "\n",
    "#wiki_sample.head()\n",
    "\n",
    "# Subselect required column\n",
    "#otm_sub = otm.loc[ : , ['name']]\n",
    "#otm_sub\n",
    "\n"
   ]
  }
 ],
 "metadata": {
  "kernelspec": {
   "display_name": "Python 3",
   "language": "python",
   "name": "python3"
  },
  "language_info": {
   "codemirror_mode": {
    "name": "ipython",
    "version": 3
   },
   "file_extension": ".py",
   "mimetype": "text/x-python",
   "name": "python",
   "nbconvert_exporter": "python",
   "pygments_lexer": "ipython3",
   "version": "3.7.6"
  }
 },
 "nbformat": 4,
 "nbformat_minor": 4
}
